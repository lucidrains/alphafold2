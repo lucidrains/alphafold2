{
 "cells": [
  {
   "cell_type": "markdown",
   "metadata": {},
   "source": [
    "<center><h2>Testing the Functionality of the <i>\"utils.py\"</i> Module</h2></center>"
   ]
  },
  {
   "cell_type": "code",
   "execution_count": 1,
   "metadata": {},
   "outputs": [
    {
     "data": {
      "text/plain": [
       "' Tetsing the following functionality: \\n    * metrics (rmsd, gdt_ts, gdt_ha, tmscore)\\n    * alignment (kabsch)\\n    * 3d coords (mds)\\n    -----\\n    The data files used contain the id of the original\\n    crystal structures from the RCSB PDB\\n'"
      ]
     },
     "execution_count": 1,
     "metadata": {},
     "output_type": "execute_result"
    }
   ],
   "source": [
    "\"\"\" Tetsing the following functionality: \n",
    "    * metrics (rmsd, gdt_ts, gdt_ha, tmscore)\n",
    "    * alignment (kabsch)\n",
    "    * 3d coords (mds)\n",
    "    -----\n",
    "    The data files used contain the id of the original\n",
    "    crystal structures from the RCSB PDB\n",
    "\"\"\""
   ]
  },
  {
   "cell_type": "code",
   "execution_count": 1,
   "metadata": {
    "scrolled": false
   },
   "outputs": [],
   "source": [
    "import os\n",
    "import sys\n",
    "# science\n",
    "import numpy as np\n",
    "import torch\n",
    "import matplotlib.pyplot as plt\n",
    "# molecular utils\n",
    "import mdtraj\n",
    "# functionality\n",
    "sys.path.append(\"../\")\n",
    "from alphafold2_pytorch.utils import *"
   ]
  },
  {
   "cell_type": "code",
   "execution_count": 2,
   "metadata": {},
   "outputs": [],
   "source": [
    "# load pdb file - has 1 more N_term than it should\n",
    "prot = mdtraj.load_pdb(\"data/1h22_protein_chain_1.pdb\").xyz[0].transpose()"
   ]
  },
  {
   "cell_type": "markdown",
   "metadata": {},
   "source": [
    "## Metrics"
   ]
  },
  {
   "cell_type": "code",
   "execution_count": 3,
   "metadata": {},
   "outputs": [],
   "source": [
    "# alter a small amount and measure metrics\n",
    "pred = prot + (2*np.random.rand(*prot.shape) - 1) * 1"
   ]
  },
  {
   "cell_type": "code",
   "execution_count": 4,
   "metadata": {},
   "outputs": [
    {
     "name": "stdout",
     "output_type": "stream",
     "text": [
      "rmsd is:  [0.57793009]\n",
      "gdt_ha is:  [0.64619016]\n",
      "gdt_ts is:  [0.88010789]\n",
      "tm_score is:  [0.9980016]\n",
      "rmsd is:  tensor([0.5779], dtype=torch.float64)\n",
      "gdt_ha is:  tensor([0.6462])\n",
      "gdt_ts is:  tensor([0.8801])\n",
      "tm_score is:  tensor([0.9980], dtype=torch.float64)\n"
     ]
    }
   ],
   "source": [
    "# Numpy\n",
    "rmsd     = RMSD(prot, pred)\n",
    "gdt_ha   = GDT(prot, pred, mode=\"HA\")\n",
    "gdt_ts   = GDT(prot, pred, mode=\"TS\")\n",
    "tm_score = TMscore(prot, pred)\n",
    "\n",
    "print(\"rmsd is: \", rmsd)\n",
    "print(\"gdt_ha is: \", gdt_ha)\n",
    "print(\"gdt_ts is: \", gdt_ts)\n",
    "print(\"tm_score is: \", tm_score)\n",
    "\n",
    "# Torch\n",
    "prot, pred = torch.tensor(prot), torch.tensor(pred)\n",
    "rmsd     = RMSD(prot, pred)\n",
    "gdt_ha   = GDT(prot, pred, mode=\"HA\")\n",
    "gdt_ts   = GDT(prot, pred, mode=\"TS\")\n",
    "tm_score = TMscore(prot, pred)\n",
    "\n",
    "print(\"rmsd is: \", rmsd)\n",
    "print(\"gdt_ha is: \", gdt_ha)\n",
    "print(\"gdt_ts is: \", gdt_ts)\n",
    "print(\"tm_score is: \", tm_score)"
   ]
  },
  {
   "cell_type": "markdown",
   "metadata": {},
   "source": [
    "## Alignment"
   ]
  },
  {
   "cell_type": "code",
   "execution_count": 5,
   "metadata": {},
   "outputs": [],
   "source": [
    "prot = prot.cpu().numpy()\n",
    "pred = pred.cpu().numpy()"
   ]
  },
  {
   "cell_type": "code",
   "execution_count": 6,
   "metadata": {},
   "outputs": [],
   "source": [
    "# rotation matrix\n",
    "R = np.array([[0.25581, -0.77351, 0.57986],\n",
    "              [-0.85333, -0.46255, -0.24057],\n",
    "              [0.45429, -0.43327, -0.77839]])"
   ]
  },
  {
   "cell_type": "code",
   "execution_count": 7,
   "metadata": {},
   "outputs": [],
   "source": [
    "# perturb protein (translation + rotation + random)\n",
    "pred = prot + (2*np.random.rand(*prot.shape) - 1) * 1 \n",
    "pred = np.dot(R, pred)"
   ]
  },
  {
   "cell_type": "code",
   "execution_count": 8,
   "metadata": {},
   "outputs": [
    {
     "data": {
      "text/plain": [
       "(tensor(0.5786, dtype=torch.float64), tensor(0.1677, dtype=torch.float64))"
      ]
     },
     "execution_count": 8,
     "metadata": {},
     "output_type": "execute_result"
    }
   ],
   "source": [
    "# check realignment works - torch\n",
    "pred_mod_, prot_mod_ = kabsch_torch(torch.tensor(pred).double(), torch.tensor(prot).double())\n",
    "rmsd_torch(prot_mod_, pred_mod_), tmscore_torch(prot_mod_, pred_mod_)"
   ]
  },
  {
   "cell_type": "code",
   "execution_count": 9,
   "metadata": {},
   "outputs": [
    {
     "data": {
      "text/plain": [
       "(0.5786325232948007, 0.16767657305887732)"
      ]
     },
     "execution_count": 9,
     "metadata": {},
     "output_type": "execute_result"
    }
   ],
   "source": [
    "# check realignment works - numpy\n",
    "pred_mod, prot_mod = kabsch_numpy(pred, prot)\n",
    "rmsd_numpy(prot_mod, pred_mod), tmscore_numpy(prot_mod, pred_mod)"
   ]
  },
  {
   "cell_type": "markdown",
   "metadata": {},
   "source": [
    "## 3d Converter"
   ]
  },
  {
   "cell_type": "code",
   "execution_count": 10,
   "metadata": {},
   "outputs": [],
   "source": [
    "prot_traj = mdtraj.load_pdb(\"data/1h22_protein_chain_1.pdb\")"
   ]
  },
  {
   "cell_type": "code",
   "execution_count": 11,
   "metadata": {},
   "outputs": [],
   "source": [
    "prot = prot_traj.xyz[0].transpose()"
   ]
  },
  {
   "cell_type": "code",
   "execution_count": 12,
   "metadata": {},
   "outputs": [],
   "source": [
    "# works with a simple distance matrix for now\n",
    "prot = torch.tensor(prot)\n",
    "dist_mat = torch.cdist(prot.t(), prot.t())"
   ]
  },
  {
   "cell_type": "code",
   "execution_count": 13,
   "metadata": {},
   "outputs": [],
   "source": [
    "# plt.imshow(distogram, cmap=\"viridis_r\")"
   ]
  },
  {
   "cell_type": "code",
   "execution_count": 14,
   "metadata": {},
   "outputs": [
    {
     "data": {
      "text/plain": [
       "(torch.Size([1, 482]), torch.Size([1, 482]), torch.Size([1, 482]))"
      ]
     },
     "execution_count": 14,
     "metadata": {},
     "output_type": "execute_result"
    }
   ],
   "source": [
    "# select indices of backbone for angle calculation and selection\n",
    "N_mask  = torch.tensor( prot_traj.topology.select(\"name == N and backbone\") ).unsqueeze(0)\n",
    "CA_mask = torch.tensor( prot_traj.topology.select(\"name == CA and backbone\") ).unsqueeze(0) \n",
    "C_mask  = torch.tensor( prot_traj.topology.select(\"name == C and backbone\")  ).unsqueeze(0)\n",
    "CA_mask.shape, N_mask.shape, C_mask.shape"
   ]
  },
  {
   "cell_type": "code",
   "execution_count": 15,
   "metadata": {},
   "outputs": [
    {
     "name": "stdout",
     "output_type": "stream",
     "text": [
      "Corrected mirror idxs: tensor([0, 2, 4])\n"
     ]
    }
   ],
   "source": [
    "sample = torch.cat([dist_mat.cpu().unsqueeze(0)]*5, dim=0)\n",
    "sample.requires_grad = True\n",
    "preds, stresses = MDScaling(sample,\n",
    "                            iters=3, tol=1e-5, fix_mirror=1, eigen=True,\n",
    "                            N_mask=N_mask, CA_mask=CA_mask, C_mask=C_mask, verbose=2)"
   ]
  },
  {
   "cell_type": "code",
   "execution_count": 16,
   "metadata": {},
   "outputs": [
    {
     "name": "stdout",
     "output_type": "stream",
     "text": [
      "it: 0, stress tensor([0.0070])\n",
      "it: 1, stress tensor([0.0068])\n",
      "breaking at iteration 1 with stress tensor([3.5945e-05])\n",
      "Corrected mirror idxs: tensor([], dtype=torch.int64)\n"
     ]
    }
   ],
   "source": [
    "preds, stresses = MDScaling(torch.cat([dist_mat.cpu().unsqueeze(0)]*1, dim=0),\n",
    "                            iters=50, tol=1e-5, fix_mirror=1,\n",
    "                            N_mask=N_mask, CA_mask=CA_mask, C_mask=C_mask, verbose=2)"
   ]
  },
  {
   "cell_type": "code",
   "execution_count": 17,
   "metadata": {
    "scrolled": false
   },
   "outputs": [
    {
     "name": "stdout",
     "output_type": "stream",
     "text": [
      "Corrected mirror idxs: tensor([], dtype=torch.int64)\n"
     ]
    }
   ],
   "source": [
    "preds, stresses = MDScaling(dist_mat.cpu(), iters=5, tol=1e-5, fix_mirror=1, eigen=True,\n",
    "                            N_mask=N_mask, CA_mask=CA_mask, C_mask=C_mask, verbose=2)\n",
    "pred, stress = preds[0], stresses[0]"
   ]
  },
  {
   "cell_type": "code",
   "execution_count": 18,
   "metadata": {},
   "outputs": [
    {
     "name": "stdout",
     "output_type": "stream",
     "text": [
      "rmsd is:  [8.0834025e-06]\n",
      "gdt_ha is:  [1.]\n",
      "gdt_ts is:  [1.]\n",
      "tm_score is:  [1.]\n"
     ]
    }
   ],
   "source": [
    "# check realignment works\n",
    "pred_mod, prot_mod = Kabsch(pred.numpy(), prot.numpy())\n",
    "# measure\n",
    "rmsd     = RMSD(prot_mod, pred_mod)\n",
    "gdt_ha   = GDT(prot_mod, pred_mod, mode=\"HA\")\n",
    "gdt_ts   = GDT(prot_mod, pred_mod, mode=\"TS\")\n",
    "tm_score = TMscore(prot_mod, pred_mod)\n",
    "\n",
    "print(\"rmsd is: \", rmsd)\n",
    "print(\"gdt_ha is: \", gdt_ha)\n",
    "print(\"gdt_ts is: \", gdt_ts)\n",
    "print(\"tm_score is: \", tm_score)"
   ]
  },
  {
   "cell_type": "markdown",
   "metadata": {},
   "source": [
    "## See reconstruction"
   ]
  },
  {
   "cell_type": "code",
   "execution_count": 19,
   "metadata": {},
   "outputs": [],
   "source": [
    "new_dist_mat = torch.cdist(pred.t(), pred.t())\n",
    "delta_dist   = new_dist_mat - dist_mat"
   ]
  },
  {
   "cell_type": "code",
   "execution_count": 20,
   "metadata": {},
   "outputs": [
    {
     "name": "stdout",
     "output_type": "stream",
     "text": [
      "Diffs: max = 0.0027621358167380095 and min -0.005524271633476019\n"
     ]
    },
    {
     "data": {
      "image/png": "[encoded data removed]",
      "text/plain": [
       "<Figure size 648x216 with 3 Axes>"
      ]
     },
     "metadata": {
      "needs_background": "light"
     },
     "output_type": "display_data"
    }
   ],
   "source": [
    "fig, ax = plt.subplots(1,3,figsize=(9, 3), sharey=True)\n",
    "cmap = plt.get_cmap(\"viridis_r\")\n",
    "\n",
    "ax[0].set_title(\"Original\")\n",
    "ax[0].imshow(dist_mat, cmap=\"viridis_r\")\n",
    "ax[1].set_title(\"Reconstructed\")\n",
    "ax[1].imshow(new_dist_mat, cmap=\"viridis_r\")\n",
    "ax[2].set_title(\"Difference\")\n",
    "ax[2].imshow(delta_dist, cmap=\"viridis_r\")\n",
    "\n",
    "\n",
    "print(\"Diffs: max = {0} and min {1}\".format(np.amax(delta_dist.numpy()),\n",
    "                                            np.amin(delta_dist.numpy()) ))"
   ]
  },
  {
   "cell_type": "code",
   "execution_count": 27,
   "metadata": {},
   "outputs": [],
   "source": [
    "# save pdb file and check manually here: \n",
    "# https://molstar.org/viewer/\n",
    "buffer_save = mdtraj.load(\"data/1h22_protein_chain_1.pdb\")\n",
    "buffer_save.xyz = pred_mod.T[None, :, :]\n",
    "buffer_save.save(\"data/save_to_check.pdb\")"
   ]
  },
  {
   "cell_type": "code",
   "execution_count": 28,
   "metadata": {},
   "outputs": [],
   "source": [
    "# save pdb file and check manually here: \n",
    "# https://molstar.org/viewer/\n",
    "buffer_save = mdtraj.load(\"data/1h22_protein_chain_1.pdb\")\n",
    "buffer_save.xyz = prot_mod.T[None, :, :]\n",
    "buffer_save.save(\"data/save_to_check_base.pdb\")"
   ]
  },
  {
   "cell_type": "markdown",
   "metadata": {},
   "source": [
    "Legend:\n",
    "* blue/purple: reference\n",
    "* green/orange: our reconstruction\n",
    "\n",
    "Comments: only small blue detail on the left. increase match by decreasing tolerance"
   ]
  },
  {
   "cell_type": "markdown",
   "metadata": {},
   "source": [
    "<img src=\"data/comparison.png\">"
   ]
  },
  {
   "cell_type": "code",
   "execution_count": null,
   "metadata": {},
   "outputs": [],
   "source": []
  },
  {
   "cell_type": "code",
   "execution_count": null,
   "metadata": {},
   "outputs": [],
   "source": []
  }
 ],
 "metadata": {
  "kernelspec": {
   "display_name": "Julia 1.5.3",
   "language": "julia",
   "name": "julia-1.5"
  },
  "language_info": {
   "file_extension": ".jl",
   "mimetype": "application/julia",
   "name": "julia",
   "version": "1.5.3"
  }
 },
 "nbformat": 4,
 "nbformat_minor": 4
}
